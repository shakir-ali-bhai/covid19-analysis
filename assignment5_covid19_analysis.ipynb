{
 "cells": [
  {
   "cell_type": "markdown",
   "id": "af0d2eca",
   "metadata": {},
   "source": [
    "# COVID-19 Data Analysis + World Happiness Correlation\n",
    "This notebook walks through loading, cleaning, analyzing, visualizing, and merging a COVID-19 dataset with the World Happiness dataset to explore potential relationships between pandemic impact and happiness indicators.\n",
    "\n",
    "**Contents**\n",
    "1. Load data\n",
    "2. Inspect schema\n",
    "3. Clean & standardize\n",
    "4. Engineer COVID aggregates\n",
    "5. Prepare happiness indicators\n",
    "6. Merge & correlations\n",
    "7. Visualizations\n",
    "8. Key insights\n"
   ]
  },
  {
   "cell_type": "markdown",
   "id": "4e208cf3",
   "metadata": {},
   "source": [
    "## 1. Imports & Setup"
   ]
  },
  {
   "cell_type": "code",
   "execution_count": 2,
   "id": "f90fc957",
   "metadata": {},
   "outputs": [],
   "source": [
    "import pandas as pd\n",
    "import numpy as np\n",
    "import matplotlib.pyplot as plt\n",
    "from pathlib import Path\n"
   ]
  },
  {
   "cell_type": "markdown",
   "id": "954da58a",
   "metadata": {},
   "source": [
    "## 2. Load Data"
   ]
  },
  {
   "cell_type": "code",
   "execution_count": 6,
   "id": "ebb4b1e7",
   "metadata": {},
   "outputs": [
    {
     "data": {
      "text/plain": [
       "(  Province/State Country/Region      Lat     Long  1/22/20  1/23/20  1/24/20  \\\n",
       " 0            NaN    Afghanistan  33.0000  65.0000        0        0        0   \n",
       " 1            NaN        Albania  41.1533  20.1683        0        0        0   \n",
       " 2            NaN        Algeria  28.0339   1.6596        0        0        0   \n",
       " 3            NaN        Andorra  42.5063   1.5218        0        0        0   \n",
       " 4            NaN         Angola -11.2027  17.8739        0        0        0   \n",
       " \n",
       "    1/25/20  1/26/20  1/27/20  ...  4/21/20  4/22/20  4/23/20  4/24/20  \\\n",
       " 0        0        0        0  ...     1092     1176     1279     1351   \n",
       " 1        0        0        0  ...      609      634      663      678   \n",
       " 2        0        0        0  ...     2811     2910     3007     3127   \n",
       " 3        0        0        0  ...      717      723      723      731   \n",
       " 4        0        0        0  ...       24       25       25       25   \n",
       " \n",
       "    4/25/20  4/26/20  4/27/20  4/28/20  4/29/20  4/30/20  \n",
       " 0     1463     1531     1703     1828     1939     2171  \n",
       " 1      712      726      736      750      766      773  \n",
       " 2     3256     3382     3517     3649     3848     4006  \n",
       " 3      738      738      743      743      743      745  \n",
       " 4       25       26       27       27       27       27  \n",
       " \n",
       " [5 rows x 104 columns],\n",
       "    Overall rank Country or region  Score  GDP per capita  Social support  \\\n",
       " 0             1           Finland  7.769           1.340           1.587   \n",
       " 1             2           Denmark  7.600           1.383           1.573   \n",
       " 2             3            Norway  7.554           1.488           1.582   \n",
       " 3             4           Iceland  7.494           1.380           1.624   \n",
       " 4             5       Netherlands  7.488           1.396           1.522   \n",
       " \n",
       "    Healthy life expectancy  Freedom to make life choices  Generosity  \\\n",
       " 0                    0.986                         0.596       0.153   \n",
       " 1                    0.996                         0.592       0.252   \n",
       " 2                    1.028                         0.603       0.271   \n",
       " 3                    1.026                         0.591       0.354   \n",
       " 4                    0.999                         0.557       0.322   \n",
       " \n",
       "    Perceptions of corruption  \n",
       " 0                      0.393  \n",
       " 1                      0.410  \n",
       " 2                      0.341  \n",
       " 3                      0.118  \n",
       " 4                      0.298  )"
      ]
     },
     "execution_count": 6,
     "metadata": {},
     "output_type": "execute_result"
    }
   ],
   "source": [
    "covid_df = pd.read_csv('covid19_Confirmed_dataset.csv')\n",
    "happy_df = pd.read_csv('worldwide_happiness_report.csv')\n",
    "covid_df.head(), happy_df.head()"
   ]
  },
  {
   "cell_type": "markdown",
   "id": "84a1e4e1",
   "metadata": {},
   "source": [
    "## 3. Inspect Schema"
   ]
  },
  {
   "cell_type": "code",
   "execution_count": 8,
   "id": "b561e1dc",
   "metadata": {},
   "outputs": [
    {
     "name": "stdout",
     "output_type": "stream",
     "text": [
      "<class 'pandas.core.frame.DataFrame'>\n",
      "RangeIndex: 266 entries, 0 to 265\n",
      "Columns: 104 entries, Province/State to 4/30/20\n",
      "dtypes: float64(2), int64(100), object(2)\n",
      "memory usage: 216.3+ KB\n",
      "\n",
      "\n",
      "<class 'pandas.core.frame.DataFrame'>\n",
      "RangeIndex: 156 entries, 0 to 155\n",
      "Data columns (total 9 columns):\n",
      " #   Column                        Non-Null Count  Dtype  \n",
      "---  ------                        --------------  -----  \n",
      " 0   Overall rank                  156 non-null    int64  \n",
      " 1   Country or region             156 non-null    object \n",
      " 2   Score                         156 non-null    float64\n",
      " 3   GDP per capita                156 non-null    float64\n",
      " 4   Social support                156 non-null    float64\n",
      " 5   Healthy life expectancy       156 non-null    float64\n",
      " 6   Freedom to make life choices  156 non-null    float64\n",
      " 7   Generosity                    156 non-null    float64\n",
      " 8   Perceptions of corruption     156 non-null    float64\n",
      "dtypes: float64(7), int64(1), object(1)\n",
      "memory usage: 11.1+ KB\n"
     ]
    }
   ],
   "source": [
    "covid_df.info()\n",
    "print('\\n')\n",
    "happy_df.info()"
   ]
  },
  {
   "cell_type": "markdown",
   "id": "ef49771e",
   "metadata": {},
   "source": [
    "## 4. Helpers for flexible column detection & cleaning"
   ]
  },
  {
   "cell_type": "code",
   "execution_count": 10,
   "id": "fa85631d",
   "metadata": {},
   "outputs": [],
   "source": [
    "def guess_col(df, candidates):\n",
    "    cols_lower = {c.lower(): c for c in df.columns}\n",
    "    for cand in candidates:\n",
    "        if cand.lower() in cols_lower:\n",
    "            return cols_lower[cand.lower()]\n",
    "    for cand in candidates:\n",
    "        for col in df.columns:\n",
    "            if cand.lower() in col.lower():\n",
    "                return col\n",
    "    return None\n",
    "\n",
    "def std_country(s):\n",
    "    if pd.isna(s):\n",
    "        return s\n",
    "    s = str(s).strip()\n",
    "    replacements = {\n",
    "        \"United States of America\": \"United States\",\n",
    "        \"USA\": \"United States\",\n",
    "        \"US\": \"United States\",\n",
    "        \"U.S.\": \"United States\",\n",
    "        \"UK\": \"United Kingdom\",\n",
    "        \"U.K.\": \"United Kingdom\",\n",
    "        \"Russian Federation\": \"Russia\",\n",
    "        \"Viet Nam\": \"Vietnam\",\n",
    "        \"Czechia\": \"Czech Republic\",\n",
    "        \"Congo (Kinshasa)\": \"Democratic Republic of the Congo\",\n",
    "        \"Congo, Dem. Rep.\": \"Democratic Republic of the Congo\",\n",
    "        \"Congo (Brazzaville)\": \"Republic of the Congo\",\n",
    "        \"Korea, South\": \"South Korea\",\n",
    "        \"Korea, Republic of\": \"South Korea\",\n",
    "        \"Korea, North\": \"North Korea\",\n",
    "        \"Taiwan*\": \"Taiwan\",\n",
    "        \"Hong Kong S.A.R. of China\": \"Hong Kong\",\n",
    "        \"Mainland China\": \"China\",\n",
    "    }\n",
    "    return replacements.get(s, s)"
   ]
  },
  {
   "cell_type": "markdown",
   "id": "135d53bd",
   "metadata": {},
   "source": [
    "## 5. Detect key columns dynamically (works across variants of these datasets)"
   ]
  },
  {
   "cell_type": "code",
   "execution_count": 12,
   "id": "461b49ef",
   "metadata": {},
   "outputs": [
    {
     "name": "stdout",
     "output_type": "stream",
     "text": [
      "Country/Region None None None None None\n",
      "Country or region Score GDP per capita Social support Healthy life expectancy Freedom to make life choices\n"
     ]
    }
   ],
   "source": [
    "cov_country_col = guess_col(covid_df, [\"location\", \"country\", \"country/region\", \"country or region\", \"entity\", \"region\", \"Area\"])\n",
    "cov_date_col    = guess_col(covid_df, [\"date\", \"observationdate\", \"day\"])\n",
    "cov_cases_col   = guess_col(covid_df, [\"total_cases\", \"confirmed\", \"cases\", \"cumulative cases\", \"cumulative_confirmed\"])\n",
    "cov_deaths_col  = guess_col(covid_df, [\"total_deaths\", \"deaths\", \"cumulative deaths\"])\n",
    "cov_new_cases_col = guess_col(covid_df, [\"new_cases\", \"daily new cases\", \"new confirmed\"])\n",
    "cov_new_deaths_col = guess_col(covid_df, [\"new_deaths\", \"daily new deaths\"])\n",
    "\n",
    "hap_country_col = guess_col(happy_df, [\"country\", \"country name\", \"country or region\", \"nation\"])\n",
    "hap_score_col   = guess_col(happy_df, [\"score\", \"happiness score\", \"life ladder\"])\n",
    "hap_gdp_col     = guess_col(happy_df, [\"gdp per capita\", \"economy (gdp per capita)\", \"logged gdp per capita\", \"gdp\"])\n",
    "hap_social_col  = guess_col(happy_df, [\"social support\", \"social_support\"])\n",
    "hap_health_col  = guess_col(happy_df, [\"healthy life expectancy\", \"health (life expectancy)\", \"life expectancy\"])\n",
    "hap_freedom_col = guess_col(happy_df, [\"freedom\", \"freedom to make life choices\"])\n",
    "\n",
    "print(cov_country_col, cov_date_col, cov_cases_col, cov_deaths_col, cov_new_cases_col, cov_new_deaths_col)\n",
    "print(hap_country_col, hap_score_col, hap_gdp_col, hap_social_col, hap_health_col, hap_freedom_col)"
   ]
  },
  {
   "cell_type": "markdown",
   "id": "e8761791",
   "metadata": {},
   "source": [
    "## 6. Clean + Standardize"
   ]
  },
  {
   "cell_type": "code",
   "execution_count": 14,
   "id": "6f1b0228",
   "metadata": {},
   "outputs": [],
   "source": [
    "covid_work = covid_df.copy()\n",
    "happy_work = happy_df.copy()\n",
    "\n",
    "covid_work[cov_country_col] = covid_work[cov_country_col].apply(std_country)\n",
    "happy_work[hap_country_col] = happy_work[hap_country_col].apply(std_country)\n",
    "\n",
    "if cov_date_col is not None:\n",
    "    covid_work[cov_date_col] = pd.to_datetime(covid_work[cov_date_col], errors=\"coerce\")\n",
    "\n",
    "covid_std = covid_work.rename(columns={cov_country_col: \"Country\"})\n",
    "happy_std = happy_work.rename(columns={hap_country_col: \"Country\"})"
   ]
  },
  {
   "cell_type": "markdown",
   "id": "fdc08cc1",
   "metadata": {},
   "source": [
    "## 7. Build/Align COVID metrics (cumulative & daily)"
   ]
  },
  {
   "cell_type": "code",
   "execution_count": 16,
   "id": "95dfdc41",
   "metadata": {},
   "outputs": [],
   "source": [
    "cov_new_cases_col = cov_new_cases_col\n",
    "cov_new_deaths_col = cov_new_deaths_col\n",
    "cov_cases_col = cov_cases_col\n",
    "cov_deaths_col = cov_deaths_col\n",
    "\n",
    "# Build cumulative if only daily exists\n",
    "if cov_cases_col is None and cov_new_cases_col is not None:\n",
    "    covid_std = covid_std.sort_values([\"Country\", cov_date_col])\n",
    "    covid_std[\"__total_cases_built__\"] = covid_std.groupby(\"Country\")[cov_new_cases_col].cumsum()\n",
    "    cov_cases_col = \"__total_cases_built__\"\n",
    "\n",
    "if cov_deaths_col is None and cov_new_deaths_col is not None:\n",
    "    covid_std = covid_std.sort_values([\"Country\", cov_date_col])\n",
    "    covid_std[\"__total_deaths_built__\"] = covid_std.groupby(\"Country\")[cov_new_deaths_col].cumsum()\n",
    "    cov_deaths_col = \"__total_deaths_built__\"\n",
    "\n",
    "# Build daily if only cumulative exists\n",
    "if cov_new_cases_col is None and cov_cases_col is not None and cov_date_col is not None:\n",
    "    covid_std = covid_std.sort_values([\"Country\", cov_date_col])\n",
    "    covid_std[\"__new_cases_built__\"] = covid_std.groupby(\"Country\")[cov_cases_col].diff().fillna(0)\n",
    "    cov_new_cases_col = \"__new_cases_built__\"\n",
    "\n",
    "if cov_new_deaths_col is None and cov_deaths_col is not None and cov_date_col is not None:\n",
    "    covid_std = covid_std.sort_values([\"Country\", cov_date_col])\n",
    "    covid_std[\"__new_deaths_built__\"] = covid_std.groupby(\"Country\")[cov_deaths_col].diff().fillna(0)\n",
    "    cov_new_deaths_col = \"__new_deaths_built__\""
   ]
  },
  {
   "cell_type": "markdown",
   "id": "b379f1eb",
   "metadata": {},
   "source": [
    "## 8. Aggregate to latest snapshot + peaks"
   ]
  },
  {
   "cell_type": "code",
   "execution_count": 18,
   "id": "bebefa7e",
   "metadata": {},
   "outputs": [
    {
     "data": {
      "text/html": [
       "<div>\n",
       "<style scoped>\n",
       "    .dataframe tbody tr th:only-of-type {\n",
       "        vertical-align: middle;\n",
       "    }\n",
       "\n",
       "    .dataframe tbody tr th {\n",
       "        vertical-align: top;\n",
       "    }\n",
       "\n",
       "    .dataframe thead th {\n",
       "        text-align: right;\n",
       "    }\n",
       "</style>\n",
       "<table border=\"1\" class=\"dataframe\">\n",
       "  <thead>\n",
       "    <tr style=\"text-align: right;\">\n",
       "      <th></th>\n",
       "      <th>Country</th>\n",
       "    </tr>\n",
       "  </thead>\n",
       "  <tbody>\n",
       "    <tr>\n",
       "      <th>0</th>\n",
       "      <td>Afghanistan</td>\n",
       "    </tr>\n",
       "    <tr>\n",
       "      <th>1</th>\n",
       "      <td>Albania</td>\n",
       "    </tr>\n",
       "    <tr>\n",
       "      <th>2</th>\n",
       "      <td>Algeria</td>\n",
       "    </tr>\n",
       "    <tr>\n",
       "      <th>3</th>\n",
       "      <td>Andorra</td>\n",
       "    </tr>\n",
       "    <tr>\n",
       "      <th>4</th>\n",
       "      <td>Angola</td>\n",
       "    </tr>\n",
       "  </tbody>\n",
       "</table>\n",
       "</div>"
      ],
      "text/plain": [
       "       Country\n",
       "0  Afghanistan\n",
       "1      Albania\n",
       "2      Algeria\n",
       "3      Andorra\n",
       "4       Angola"
      ]
     },
     "execution_count": 18,
     "metadata": {},
     "output_type": "execute_result"
    }
   ],
   "source": [
    "keep_cols = [\"Country\"]\n",
    "if cov_date_col is not None:\n",
    "    keep_cols.append(cov_date_col)\n",
    "for col in [cov_cases_col, cov_deaths_col, cov_new_cases_col, cov_new_deaths_col]:\n",
    "    if col is not None:\n",
    "        keep_cols.append(col)\n",
    "\n",
    "cov_keep = covid_std[keep_cols].copy()\n",
    "if cov_date_col is not None:\n",
    "    cov_keep = cov_keep.sort_values([\"Country\", cov_date_col])\n",
    "\n",
    "if cov_new_cases_col is not None and cov_date_col is not None:\n",
    "    cov_keep[\"new_cases_7d\"] = cov_keep.groupby(\"Country\")[cov_new_cases_col].transform(lambda s: s.rolling(7, min_periods=1).mean())\n",
    "if cov_new_deaths_col is not None and cov_date_col is not None:\n",
    "    cov_keep[\"new_deaths_7d\"] = cov_keep.groupby(\"Country\")[cov_new_deaths_col].transform(lambda s: s.rolling(7, min_periods=1).mean())\n",
    "\n",
    "if cov_date_col is not None:\n",
    "    idx = cov_keep.groupby(\"Country\")[cov_date_col].idxmax()\n",
    "    covid_latest = cov_keep.loc[idx].copy()\n",
    "else:\n",
    "    covid_latest = cov_keep.groupby(\"Country\").tail(1).copy()\n",
    "\n",
    "if cov_cases_col and cov_cases_col in covid_latest.columns and cov_cases_col != \"total_cases\":\n",
    "    covid_latest = covid_latest.rename(columns={cov_cases_col: \"total_cases\"})\n",
    "if cov_deaths_col and cov_deaths_col in covid_latest.columns and cov_deaths_col != \"total_deaths\":\n",
    "    covid_latest = covid_latest.rename(columns={cov_deaths_col: \"total_deaths\"})\n",
    "\n",
    "if \"total_deaths\" in covid_latest.columns and \"total_cases\" in covid_latest.columns:\n",
    "    covid_latest[\"CFR\"] = np.where(covid_latest[\"total_cases\"] > 0, covid_latest[\"total_deaths\"] / covid_latest[\"total_cases\"], np.nan)\n",
    "\n",
    "for col in [\"new_cases_7d\", \"new_deaths_7d\"]:\n",
    "    if col in cov_keep.columns:\n",
    "        peak = cov_keep.groupby(\"Country\")[col].max().rename(f\"peak_{col}\")\n",
    "        covid_latest = covid_latest.merge(peak, on=\"Country\", how=\"left\")\n",
    "\n",
    "covid_latest.head()"
   ]
  },
  {
   "cell_type": "markdown",
   "id": "015ed69c",
   "metadata": {},
   "source": [
    "## 9. Prepare Happiness indicators"
   ]
  },
  {
   "cell_type": "code",
   "execution_count": 20,
   "id": "83070237",
   "metadata": {},
   "outputs": [
    {
     "data": {
      "text/html": [
       "<div>\n",
       "<style scoped>\n",
       "    .dataframe tbody tr th:only-of-type {\n",
       "        vertical-align: middle;\n",
       "    }\n",
       "\n",
       "    .dataframe tbody tr th {\n",
       "        vertical-align: top;\n",
       "    }\n",
       "\n",
       "    .dataframe thead th {\n",
       "        text-align: right;\n",
       "    }\n",
       "</style>\n",
       "<table border=\"1\" class=\"dataframe\">\n",
       "  <thead>\n",
       "    <tr style=\"text-align: right;\">\n",
       "      <th></th>\n",
       "      <th>Country</th>\n",
       "      <th>HappinessScore</th>\n",
       "      <th>GDP_per_capita</th>\n",
       "      <th>Social_support</th>\n",
       "      <th>Healthy_life_expectancy</th>\n",
       "      <th>Freedom</th>\n",
       "    </tr>\n",
       "  </thead>\n",
       "  <tbody>\n",
       "    <tr>\n",
       "      <th>0</th>\n",
       "      <td>Finland</td>\n",
       "      <td>7.769</td>\n",
       "      <td>1.340</td>\n",
       "      <td>1.587</td>\n",
       "      <td>0.986</td>\n",
       "      <td>0.596</td>\n",
       "    </tr>\n",
       "    <tr>\n",
       "      <th>1</th>\n",
       "      <td>Denmark</td>\n",
       "      <td>7.600</td>\n",
       "      <td>1.383</td>\n",
       "      <td>1.573</td>\n",
       "      <td>0.996</td>\n",
       "      <td>0.592</td>\n",
       "    </tr>\n",
       "    <tr>\n",
       "      <th>2</th>\n",
       "      <td>Norway</td>\n",
       "      <td>7.554</td>\n",
       "      <td>1.488</td>\n",
       "      <td>1.582</td>\n",
       "      <td>1.028</td>\n",
       "      <td>0.603</td>\n",
       "    </tr>\n",
       "    <tr>\n",
       "      <th>3</th>\n",
       "      <td>Iceland</td>\n",
       "      <td>7.494</td>\n",
       "      <td>1.380</td>\n",
       "      <td>1.624</td>\n",
       "      <td>1.026</td>\n",
       "      <td>0.591</td>\n",
       "    </tr>\n",
       "    <tr>\n",
       "      <th>4</th>\n",
       "      <td>Netherlands</td>\n",
       "      <td>7.488</td>\n",
       "      <td>1.396</td>\n",
       "      <td>1.522</td>\n",
       "      <td>0.999</td>\n",
       "      <td>0.557</td>\n",
       "    </tr>\n",
       "  </tbody>\n",
       "</table>\n",
       "</div>"
      ],
      "text/plain": [
       "       Country  HappinessScore  GDP_per_capita  Social_support  \\\n",
       "0      Finland           7.769           1.340           1.587   \n",
       "1      Denmark           7.600           1.383           1.573   \n",
       "2       Norway           7.554           1.488           1.582   \n",
       "3      Iceland           7.494           1.380           1.624   \n",
       "4  Netherlands           7.488           1.396           1.522   \n",
       "\n",
       "   Healthy_life_expectancy  Freedom  \n",
       "0                    0.986    0.596  \n",
       "1                    0.996    0.592  \n",
       "2                    1.028    0.603  \n",
       "3                    1.026    0.591  \n",
       "4                    0.999    0.557  "
      ]
     },
     "execution_count": 20,
     "metadata": {},
     "output_type": "execute_result"
    }
   ],
   "source": [
    "rename_map = {}\n",
    "if hap_score_col: rename_map[hap_score_col] = \"HappinessScore\"\n",
    "if hap_gdp_col: rename_map[hap_gdp_col] = \"GDP_per_capita\"\n",
    "if hap_social_col: rename_map[hap_social_col] = \"Social_support\"\n",
    "if hap_health_col: rename_map[hap_health_col] = \"Healthy_life_expectancy\"\n",
    "if hap_freedom_col: rename_map[hap_freedom_col] = \"Freedom\"\n",
    "\n",
    "happy_features = happy_std[[\"Country\"] + [c for c in [hap_score_col, hap_gdp_col, hap_social_col, hap_health_col, hap_freedom_col] if c is not None]].rename(columns=rename_map)\n",
    "\n",
    "hap_year_col = guess_col(happy_std, [\"year\"])\n",
    "if hap_year_col and hap_year_col in happy_std.columns:\n",
    "    happy_features = happy_std.sort_values([\"Country\", hap_year_col]).groupby(\"Country\").tail(1)[[\"Country\"] + list(rename_map.keys())].rename(columns=rename_map)\n",
    "\n",
    "happy_features.head()"
   ]
  },
  {
   "cell_type": "markdown",
   "id": "71444b53",
   "metadata": {},
   "source": [
    "## 10. Merge & correlate"
   ]
  },
  {
   "cell_type": "code",
   "execution_count": 22,
   "id": "5c9c41e7",
   "metadata": {},
   "outputs": [
    {
     "data": {
      "text/html": [
       "<div>\n",
       "<style scoped>\n",
       "    .dataframe tbody tr th:only-of-type {\n",
       "        vertical-align: middle;\n",
       "    }\n",
       "\n",
       "    .dataframe tbody tr th {\n",
       "        vertical-align: top;\n",
       "    }\n",
       "\n",
       "    .dataframe thead th {\n",
       "        text-align: right;\n",
       "    }\n",
       "</style>\n",
       "<table border=\"1\" class=\"dataframe\">\n",
       "  <thead>\n",
       "    <tr style=\"text-align: right;\">\n",
       "      <th></th>\n",
       "      <th>HappinessScore</th>\n",
       "      <th>GDP_per_capita</th>\n",
       "      <th>Social_support</th>\n",
       "      <th>Healthy_life_expectancy</th>\n",
       "      <th>Freedom</th>\n",
       "    </tr>\n",
       "  </thead>\n",
       "  <tbody>\n",
       "    <tr>\n",
       "      <th>HappinessScore</th>\n",
       "      <td>1.000</td>\n",
       "      <td>0.799</td>\n",
       "      <td>0.791</td>\n",
       "      <td>0.800</td>\n",
       "      <td>0.573</td>\n",
       "    </tr>\n",
       "    <tr>\n",
       "      <th>GDP_per_capita</th>\n",
       "      <td>0.799</td>\n",
       "      <td>1.000</td>\n",
       "      <td>0.761</td>\n",
       "      <td>0.864</td>\n",
       "      <td>0.377</td>\n",
       "    </tr>\n",
       "    <tr>\n",
       "      <th>Social_support</th>\n",
       "      <td>0.791</td>\n",
       "      <td>0.761</td>\n",
       "      <td>1.000</td>\n",
       "      <td>0.764</td>\n",
       "      <td>0.451</td>\n",
       "    </tr>\n",
       "    <tr>\n",
       "      <th>Healthy_life_expectancy</th>\n",
       "      <td>0.800</td>\n",
       "      <td>0.864</td>\n",
       "      <td>0.764</td>\n",
       "      <td>1.000</td>\n",
       "      <td>0.407</td>\n",
       "    </tr>\n",
       "    <tr>\n",
       "      <th>Freedom</th>\n",
       "      <td>0.573</td>\n",
       "      <td>0.377</td>\n",
       "      <td>0.451</td>\n",
       "      <td>0.407</td>\n",
       "      <td>1.000</td>\n",
       "    </tr>\n",
       "  </tbody>\n",
       "</table>\n",
       "</div>"
      ],
      "text/plain": [
       "                         HappinessScore  GDP_per_capita  Social_support  \\\n",
       "HappinessScore                    1.000           0.799           0.791   \n",
       "GDP_per_capita                    0.799           1.000           0.761   \n",
       "Social_support                    0.791           0.761           1.000   \n",
       "Healthy_life_expectancy           0.800           0.864           0.764   \n",
       "Freedom                           0.573           0.377           0.451   \n",
       "\n",
       "                         Healthy_life_expectancy  Freedom  \n",
       "HappinessScore                             0.800    0.573  \n",
       "GDP_per_capita                             0.864    0.377  \n",
       "Social_support                             0.764    0.451  \n",
       "Healthy_life_expectancy                    1.000    0.407  \n",
       "Freedom                                    0.407    1.000  "
      ]
     },
     "execution_count": 22,
     "metadata": {},
     "output_type": "execute_result"
    }
   ],
   "source": [
    "merged = covid_latest.merge(happy_features, on=\"Country\", how=\"inner\")\n",
    "if \"total_cases\" in merged.columns:\n",
    "    merged[\"log_total_cases\"] = merged[\"total_cases\"].apply(lambda x: np.log10(x) if pd.notna(x) and x > 0 else np.nan)\n",
    "if \"total_deaths\" in merged.columns:\n",
    "    merged[\"log_total_deaths\"] = merged[\"total_deaths\"].apply(lambda x: np.log10(x) if pd.notna(x) and x > 0 else np.nan)\n",
    "\n",
    "num_cols = [c for c in [\"CFR\", \"total_cases\", \"total_deaths\", \"log_total_cases\", \"log_total_deaths\",\n",
    "                        \"HappinessScore\", \"GDP_per_capita\", \"Social_support\", \"Healthy_life_expectancy\", \"Freedom\"]\n",
    "            if c in merged.columns]\n",
    "corr = merged[num_cols].corr(method=\"pearson\")\n",
    "corr.round(3)"
   ]
  },
  {
   "cell_type": "markdown",
   "id": "590096bb",
   "metadata": {},
   "source": [
    "## 11. Visualizations (matplotlib, one-per-figure, no custom colors)"
   ]
  },
  {
   "cell_type": "code",
   "execution_count": 24,
   "id": "243d2144",
   "metadata": {},
   "outputs": [
    {
     "data": {
      "text/plain": [
       "<Figure size 640x480 with 0 Axes>"
      ]
     },
     "metadata": {},
     "output_type": "display_data"
    },
    {
     "data": {
      "text/plain": [
       "<Figure size 640x480 with 0 Axes>"
      ]
     },
     "metadata": {},
     "output_type": "display_data"
    },
    {
     "data": {
      "text/plain": [
       "<Figure size 640x480 with 0 Axes>"
      ]
     },
     "metadata": {},
     "output_type": "display_data"
    },
    {
     "data": {
      "text/plain": [
       "<Figure size 640x480 with 0 Axes>"
      ]
     },
     "metadata": {},
     "output_type": "display_data"
    },
    {
     "data": {
      "image/png": "[encoded data removed]",
      "text/plain": [
       "<Figure size 640x480 with 2 Axes>"
      ]
     },
     "metadata": {},
     "output_type": "display_data"
    }
   ],
   "source": [
    "import matplotlib.pyplot as plt\n",
    "from pathlib import Path\n",
    "fig_dir = Path(\"./figures\")\n",
    "fig_dir.mkdir(exist_ok=True)\n",
    "\n",
    "plt.figure()\n",
    "if \"total_cases\" in covid_latest.columns:\n",
    "    top_cases = covid_latest.sort_values(\"total_cases\", ascending=False).head(10)\n",
    "    plt.bar(top_cases[\"Country\"], top_cases[\"total_cases\"])\n",
    "    plt.xticks(rotation=45, ha=\"right\")\n",
    "    plt.title(\"Top 10 Countries by Total COVID Cases (Latest Snapshot)\")\n",
    "    plt.xlabel(\"Country\")\n",
    "    plt.ylabel(\"Total Cases\")\n",
    "    plt.tight_layout()\n",
    "    plt.savefig(fig_dir / \"top10_total_cases.png\", dpi=200)\n",
    "    plt.show()\n",
    "\n",
    "plt.figure()\n",
    "if \"total_deaths\" in covid_latest.columns:\n",
    "    top_deaths = covid_latest.sort_values(\"total_deaths\", ascending=False).head(10)\n",
    "    plt.bar(top_deaths[\"Country\"], top_deaths[\"total_deaths\"])\n",
    "    plt.xticks(rotation=45, ha=\"right\")\n",
    "    plt.title(\"Top 10 Countries by Total COVID Deaths (Latest Snapshot)\")\n",
    "    plt.xlabel(\"Country\")\n",
    "    plt.ylabel(\"Total Deaths\")\n",
    "    plt.tight_layout()\n",
    "    plt.savefig(fig_dir / \"top10_total_deaths.png\", dpi=200)\n",
    "    plt.show()\n",
    "\n",
    "plt.figure()\n",
    "if \"HappinessScore\" in merged.columns and \"CFR\" in merged.columns:\n",
    "    plt.scatter(merged[\"HappinessScore\"], merged[\"CFR\"])\n",
    "    plt.title(\"Happiness Score vs COVID Case Fatality Rate (CFR)\")\n",
    "    plt.xlabel(\"Happiness Score\")\n",
    "    plt.ylabel(\"CFR (Deaths / Cases)\")\n",
    "    plt.tight_layout()\n",
    "    plt.savefig(fig_dir / \"scatter_happiness_vs_cfr.png\", dpi=200)\n",
    "    plt.show()\n",
    "\n",
    "plt.figure()\n",
    "if \"GDP_per_capita\" in merged.columns and \"log_total_deaths\" in merged.columns:\n",
    "    plt.scatter(merged[\"GDP_per_capita\"], merged[\"log_total_deaths\"])\n",
    "    plt.title(\"GDP per Capita vs Log10(Total COVID Deaths)\")\n",
    "    plt.xlabel(\"GDP per Capita (Happiness dataset scale)\")\n",
    "    plt.ylabel(\"log10(Total COVID Deaths)\")\n",
    "    plt.tight_layout()\n",
    "    plt.savefig(fig_dir / \"scatter_gdp_vs_logdeaths.png\", dpi=200)\n",
    "    plt.show()\n",
    "\n",
    "plt.figure()\n",
    "im = plt.imshow(corr.values, aspect=\"auto\")\n",
    "plt.xticks(range(len(corr.columns)), corr.columns, rotation=45, ha=\"right\")\n",
    "plt.yticks(range(len(corr.index)), corr.index)\n",
    "plt.title(\"Correlation Heatmap (Pearson)\")\n",
    "plt.colorbar(im)\n",
    "plt.tight_layout()\n",
    "plt.savefig(fig_dir / \"correlation_heatmap.png\", dpi=200)\n",
    "plt.show()"
   ]
  },
  {
   "cell_type": "markdown",
   "id": "c9c87834",
   "metadata": {},
   "source": [
    "## 12. Quick, human-readable insights\n",
    "- **CFR** gives the share of confirmed cases resulting in death. Compare it across countries but beware of testing differences.\n",
    "- Check the scatter plots to see patterns (e.g., higher happiness vs lower CFR). Correlations quantify direction/strength but do not imply causality.\n",
    "- The GDP per capita vs log deaths chart uses a log transform so countries with extremely high totals do not dominate the scale."
   ]
  }
 ],
 "metadata": {
  "kernelspec": {
   "display_name": "Python 3 (ipykernel)",
   "language": "python",
   "name": "python3"
  },
  "language_info": {
   "codemirror_mode": {
    "name": "ipython",
    "version": 3
   },
   "file_extension": ".py",
   "mimetype": "text/x-python",
   "name": "python",
   "nbconvert_exporter": "python",
   "pygments_lexer": "ipython3",
   "version": "3.12.4"
  }
 },
 "nbformat": 4,
 "nbformat_minor": 5
}
